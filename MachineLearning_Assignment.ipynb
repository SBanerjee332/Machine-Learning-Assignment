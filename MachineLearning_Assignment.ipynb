{
  "nbformat": 4,
  "nbformat_minor": 0,
  "metadata": {
    "colab": {
      "provenance": []
    },
    "kernelspec": {
      "name": "python3",
      "display_name": "Python 3"
    },
    "language_info": {
      "name": "python"
    }
  },
  "cells": [
    {
      "cell_type": "markdown",
      "source": [
        "1. What is a parameter?\n",
        "\n",
        "A parameter is a variable that helps define the behavior of a model or function. In Machine Learning, parameters are learned from the data — for example, the weights and biases in a Linear Regression or Neural Network. They determine how the input data is transformed into output predictions."
      ],
      "metadata": {
        "id": "KfPUQxhwNaa_"
      }
    },
    {
      "cell_type": "markdown",
      "source": [
        "2. What is correlation?\n",
        "\n",
        "Correlation is a statistical measure that shows how strongly two variables are related to each other. It tells us whether one variable increases or decreases when the other does.\n",
        "\n",
        "If both increase together → positive correlation\n",
        "\n",
        "If one increases while the other decreases → negative correlation\n",
        "\n",
        "If there’s no pattern → no correlation"
      ],
      "metadata": {
        "id": "Dwydphq6NlPj"
      }
    },
    {
      "cell_type": "markdown",
      "source": [
        "3. What does negative correlation mean?\n",
        "\n",
        "A negative correlation means that when one variable increases, the other decreases.\n",
        "📘 Example: The more hours you spend watching TV, the lower your exam marks might be — this shows a negative relationship."
      ],
      "metadata": {
        "id": "j2cOy7B6N3Dj"
      }
    },
    {
      "cell_type": "markdown",
      "source": [
        "4.Define Machine Learning. What are the main components in Machine Learning?\n",
        "\n",
        "Machine Learning (ML) is a branch of Artificial Intelligence where computers learn patterns from data and make decisions or predictions without being explicitly programmed.\n",
        "\n",
        "Main components are:\n",
        "\n",
        "Data – The raw information from which the model learns.\n",
        "\n",
        "Model – The mathematical structure used to learn patterns.\n",
        "\n",
        "Loss Function – Measures how well or poorly the model performs.\n",
        "\n",
        "Optimizer – Helps the model improve by adjusting parameters.\n",
        "\n",
        "Training – The process of teaching the model using data."
      ],
      "metadata": {
        "id": "hJOpKaaKN7Y9"
      }
    },
    {
      "cell_type": "markdown",
      "source": [
        "5. How does loss value help in determining whether the model is good or not?\n",
        "\n",
        "The loss value shows how far the model’s predictions are from the actual answers.\n",
        "\n",
        "Low loss = predictions are close to real values → model is good.\n",
        "\n",
        "High loss = model predictions are poor → needs improvemen"
      ],
      "metadata": {
        "id": "yvXQG3WgPA14"
      }
    },
    {
      "cell_type": "markdown",
      "source": [
        "6. What are continuous and categorical variables?\n",
        "\n",
        "Continuous variables: Numeric values that can take infinite possible numbers in a range.\n",
        " Example: Height, weight, temperature.\n",
        "\n",
        "Categorical variables: Represent groups or categories.\n",
        " Example: Gender (Male/Female), color (Red/Blue/Green)."
      ],
      "metadata": {
        "id": "qrqPIwQ-PLQ5"
      }
    },
    {
      "cell_type": "markdown",
      "source": [
        "7. How do we handle categorical variables in Machine Learning? What are the common techniques?\n",
        "\n",
        "Machines understand numbers, not text. So, categorical data must be encoded into numbers.\n",
        "Common techniques:\n",
        "\n",
        "Label Encoding: Assigns each category a unique number.\n",
        "\n",
        "One-Hot Encoding: Creates separate columns for each category with 0/1 values.\n",
        "\n",
        "Ordinal Encoding: Used when categories have a logical order (like small, medium, large)."
      ],
      "metadata": {
        "id": "wDVKfxMkPUGg"
      }
    },
    {
      "cell_type": "markdown",
      "source": [
        "8. What do you mean by training and testing a dataset?\n",
        "\n",
        "Training dataset: Used to teach the model and adjust parameters.\n",
        "\n",
        "Testing dataset: Used to check how well the model performs on unseen data.\n",
        "It’s like practicing for an exam (training) and then giving the final exam (testing)."
      ],
      "metadata": {
        "id": "_1R8dQvbPcge"
      }
    },
    {
      "cell_type": "markdown",
      "source": [
        "9. What is sklearn.preprocessing?\n",
        "\n",
        "sklearn.preprocessing is a module in scikit-learn that provides tools to transform data before feeding it into a model. It includes methods for scaling, encoding, normalization, and feature extraction."
      ],
      "metadata": {
        "id": "f1MpFD_YP9_u"
      }
    },
    {
      "cell_type": "markdown",
      "source": [
        "10. What is a Test set?\n",
        "\n",
        "A test set is a part of the dataset that the model has never seen during training. It’s used to check if the model can make correct predictions on new, unseen data."
      ],
      "metadata": {
        "id": "IpQqIC2MQD-t"
      }
    },
    {
      "cell_type": "markdown",
      "source": [
        "11. How do we split data for model fitting (training and testing) in Python?\n",
        "\n",
        "We use train_test_split() from scikit-learn.\n",
        "from sklearn.model_selection import train_test_split\n",
        "X_train, X_test, y_train, y_test = train_test_split(X, y, test_size=0.2, random_state=42)\n"
      ],
      "metadata": {
        "id": "Q8xpbxc1QJm9"
      }
    },
    {
      "cell_type": "markdown",
      "source": [
        "12.How do you approach a Machine Learning problem?\n",
        "\n",
        "Understand the problem and goal.\n",
        "\n",
        "Collect and clean the data.\n",
        "\n",
        "Perform EDA (Exploratory Data Analysis).\n",
        "\n",
        "Preprocess data (handle missing values, encode, scale).\n",
        "\n",
        "Choose a suitable model.\n",
        "\n",
        "Train the model.\n",
        "\n",
        "Evaluate and fine-tune it."
      ],
      "metadata": {
        "id": "MPwmtroXQSRq"
      }
    },
    {
      "cell_type": "markdown",
      "source": [
        "13. Why do we have to perform EDA before fitting a model to the data?\n",
        "\n",
        "EDA helps us understand the data’s nature, patterns, and relationships before modeling. It helps detect missing values, outliers, and correlations, and gives an idea of which features are most important. It’s like studying a map before going on a trip!"
      ],
      "metadata": {
        "id": "xshHKWHZQbcT"
      }
    },
    {
      "cell_type": "markdown",
      "source": [
        "16. How can you find correlation between variables in Python?\n",
        "\n",
        "We can use the .corr() function in pandas:\n",
        "import pandas as pd\n",
        "df.corr()\n",
        "Or visualize it using a heatmap:\n",
        "import seaborn as sns\n",
        "sns.heatmap(df.corr(), annot=True)\n"
      ],
      "metadata": {
        "id": "cCrGZuawQifT"
      }
    },
    {
      "cell_type": "markdown",
      "source": [
        "17. What is causation? Explain difference between correlation and causation with an example.\n",
        "\n",
        "Causation means one variable actually causes the other to change.\n",
        "Correlation only means they move together — not that one causes the other.\n",
        "\n",
        " Example:\n",
        "\n",
        "Correlation: Ice cream sales and drowning cases both increase in summer.\n",
        "\n",
        "Causation: Hot weather causes both — but ice cream doesn’t cause drowning!"
      ],
      "metadata": {
        "id": "1PVyvSeFaRHP"
      }
    },
    {
      "cell_type": "markdown",
      "source": [
        "18. What is an Optimizer? What are different types of optimizers? Explain each with an example.\n",
        "\n",
        "An optimizer helps the model minimize the loss function by adjusting parameters (weights).\n",
        "\n",
        "Common optimizers:\n",
        "\n",
        "SGD (Stochastic Gradient Descent): Updates weights slowly, one batch at a time.\n",
        "\n",
        "Momentum: Speeds up learning using past gradients.\n",
        "\n",
        "Adam (Adaptive Moment Estimation): Combines benefits of SGD and Momentum. It’s the most popular one.\n",
        "Example:\n",
        "from tensorflow.keras.optimizers import Adam\n",
        "optimizer = Adam(learning_rate=0.001)\n"
      ],
      "metadata": {
        "id": "SRuqxB9yas52"
      }
    },
    {
      "cell_type": "markdown",
      "source": [
        "19. What is sklearn.linear_model?\n",
        "\n",
        "sklearn.linear_model is a module in scikit-learn that contains algorithms for linear models such as Linear Regression, Logistic Regression, Ridge, and Lasso.\n",
        "Example:\n",
        "from sklearn.linear_model import LinearRegression\n",
        "model = LinearRegression()\n"
      ],
      "metadata": {
        "id": "9ARv9Na4a69c"
      }
    },
    {
      "cell_type": "markdown",
      "source": [
        "20. What does model.fit() do? What arguments must be given?\n",
        "\n",
        "model.fit() trains the model using training data.\n",
        "Arguments:\n",
        "\n",
        "X_train → features\n",
        "\n",
        "y_train → labels (target values)\n",
        " Example:\n",
        " model.fit(X_train, y_train)\n"
      ],
      "metadata": {
        "id": "sCY1YgP1bD6D"
      }
    },
    {
      "cell_type": "markdown",
      "source": [
        "21. What does model.predict() do? What arguments must be given?\n",
        "\n",
        "model.predict() uses the trained model to make predictions on new data.\n",
        "Argument:\n",
        "\n",
        "The feature data you want to predict for (usually X_test).\n",
        "Example:\n",
        "y_pred = model.predict(X_test)\n"
      ],
      "metadata": {
        "id": "M4DPJpFGbM62"
      }
    },
    {
      "cell_type": "markdown",
      "source": [
        "22. What are continuous and categorical variables?\n",
        "Continuous: Numeric values that can take any number in a range (e.g., age, income).\n",
        "\n",
        "Categorical: Data divided into categories or labels (e.g., gender, city name)."
      ],
      "metadata": {
        "id": "yt973iSAbT9x"
      }
    },
    {
      "cell_type": "markdown",
      "source": [
        "23. What is feature scaling? How does it help in Machine Learning?\n",
        "\n",
        "Feature scaling is the process of normalizing data so that all features are on a similar scale.\n",
        "It helps because models like KNN, SVM, and Gradient Descent are sensitive to feature magnitude — large numbers can dominate smaller ones. Scaling ensures fair treatment."
      ],
      "metadata": {
        "id": "nTRTGQygbcy0"
      }
    },
    {
      "cell_type": "markdown",
      "source": [
        "24. How do we perform scaling in Python?\n",
        "\n",
        "We can use StandardScaler or MinMaxScaler from sklearn:\n",
        "from sklearn.preprocessing import StandardScaler\n",
        "scaler = StandardScaler()\n",
        "X_scaled = scaler.fit_transform(X)\n"
      ],
      "metadata": {
        "id": "asiNx6aebiyY"
      }
    },
    {
      "cell_type": "markdown",
      "source": [
        "25. Explain data encoding.\n",
        "\n",
        "Data encoding converts categorical (text) data into numeric form so that ML models can understand it.\n",
        "Example:\n",
        "\n",
        "Color\tEncoded\n",
        "Red\t0\n",
        "Blue\t1\n",
        "\n",
        "Techniques:\n",
        "\n",
        "Label Encoding\n",
        "\n",
        "One-Hot Encoding\n",
        "\n",
        "Binary Encoding\n",
        "\n",
        "Encoding bridges the gap between human-readable data and machine-readable numbers."
      ],
      "metadata": {
        "id": "fgOPWJwIbpC2"
      }
    },
    {
      "cell_type": "markdown",
      "source": [],
      "metadata": {
        "id": "H16XLpFjOF5P"
      }
    }
  ]
}